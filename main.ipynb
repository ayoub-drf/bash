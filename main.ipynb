{
 "cells": [
  {
   "cell_type": "code",
   "execution_count": null,
   "metadata": {
    "vscode": {
     "languageId": "shellscript"
    }
   },
   "outputs": [],
   "source": [
    "#!/bin/bash\n",
    "\n",
    "# Mathematical functions in bash\n",
    "\n",
    "# $(( )) for Integer Arithmetic\n",
    "echo $(( 100 * 10 ))\n",
    "\n",
    "# let works only with integers.\n",
    "let sum=99+1\n",
    "echo $sum\n",
    "\n",
    "# expr for Integer Arithmetic\n",
    "echo $(expr 33 + 77)\n",
    "\n",
    "# Floating Point supports (awk, bc)\n",
    "\n",
    "# bc for Floating Point Arithmetic\n",
    "echo $(echo \"5.5 + 3.2\" | bc) # Supports Floating Point\n",
    "\n",
    "# awk for Arithmetic\n",
    "echo $(echo | awk '{print 99.99 * 10}') # Supports Floating Point\n",
    "\n",
    "# -lt | -le == less then | less then or equal\n",
    "# -gt | -ge == greater then | greater then or equal\n",
    "# [[ 2 -eq 2 ]] && echo \"Yes Equal\"\n",
    "# [[ 2 == 2 ]] && echo \"Yes Equal\"\n",
    "# [[ 1 != 2 ]] && echo \"True\"\n",
    "[[ 21 -le 21 ]] && echo \"True\"\n",
    "\n",
    "\n",
    "exit 0"
   ]
  },
  {
   "cell_type": "code",
   "execution_count": null,
   "metadata": {
    "vscode": {
     "languageId": "shellscript"
    }
   },
   "outputs": [],
   "source": [
    "bin/bash\n",
    "\n",
    "# Mathematical functions in bash\n",
    "\n",
    "# $(( )) for Integer Arithmetic\n",
    "echo $(( 100 * 10 ))\n",
    "\n",
    "# let works only with integers.\n",
    "let sum=99+1\n",
    "echo $sum\n",
    "\n",
    "# expr for Integer Arithmetic\n",
    "echo $(expr 33 + 77)\n",
    "\n",
    "# Floating Point supports (awk, bc)\n",
    "\n",
    "# bc for Floating Point Arithmetic\n",
    "echo $(echo \"5.5 + 3.2\" | bc) # Supports Floating Point\n",
    "\n",
    "# awk for Arithmetic\n",
    "echo $(echo | awk '{print 99.99 * 10}') # Supports Floating Point\n",
    "\n",
    "# -lt | -le == less then | less then or equal\n",
    "# -gt | -ge == greater then | greater then or equal\n",
    "# [[ 2 -eq 2 ]] && echo \"Yes Equal\"\n",
    "# [[ 2 == 2 ]] && echo \"Yes Equal\"\n",
    "# [[ 1 != 2 ]] && echo \"True\"\n",
    "[[ 21 -le 21 ]] && echo \"True\"\n",
    "\n",
    "\n",
    "exit 0"
   ]
  },
  {
   "cell_type": "code",
   "execution_count": null,
   "metadata": {
    "vscode": {
     "languageId": "shellscript"
    }
   },
   "outputs": [],
   "source": [
    "#!/bin/bash\n",
    "\n",
    "# If statement in bash\n",
    "\n",
    "# if ! [[ 2 -eq 2 ]]; then\n",
    "#     echo \"Yes Equal\"\n",
    "# else\n",
    "#     echo \"Not Equal\"\n",
    "# fi\n",
    "\n",
    "# -e FILE: Check if a file exists.\n",
    "# -f FILE: Check if a file is a regular file (not a directory).\n",
    "# -d DIR: Check if a directory exists.\n",
    "# -r FILE: Check if a file is readable.\n",
    "# -w FILE: Check if a file is writable.\n",
    "# -x FILE: Check if a file is executable.\n",
    "# -s FILE: Check if a file is non-empty.\n",
    "# if ! [[ -e \"test.txt\" ]]; then\n",
    "#     echo \"File does not exists\"\n",
    "# fi\n",
    "\n",
    "# -z STRING: Check if a string is empty.\n",
    "# -n STRING: Check if a string is non-empty.\n",
    "# name=\"dexter\"\n",
    "# if ! [[ -z $name ]]; then\n",
    "#     echo \"$name is not empty\"\n",
    "# fi\n",
    "\n",
    "# && => AND | || => OR\n",
    "# !=  => NOT Equal \n",
    "# if ! [[ 2 != 2 ]] && [[ 2 == 2 ]]; then\n",
    "#     echo \"True\"\n",
    "# fi\n",
    "\n",
    "# [[ $var =~ regex ]]: Test if the variable matches the regular expression.\n",
    "number=\"a8093dd8093a\"\n",
    "if [[ $number =~ ^[0-9]+$ ]]; then\n",
    "    echo \"Yes\"\n",
    "elif [[ $number =~ a8093dd8093a ]]; then\n",
    "    echo \"Yes it's equal\"\n",
    "else\n",
    "    echo \"No\"\n",
    "fi\n",
    "\n",
    "\n",
    "exit 0"
   ]
  },
  {
   "cell_type": "code",
   "execution_count": null,
   "metadata": {
    "vscode": {
     "languageId": "shellscript"
    }
   },
   "outputs": [],
   "source": [
    "#!/bin/bash\n",
    "\n",
    "# Exit codes in bash\n",
    "\n",
    "rm somefile > /dev/null 2>&1\n",
    "\n",
    "if [ $? -eq 0 ]; then\n",
    "    echo \"file deleted successfully\"\n",
    "else\n",
    "    echo \"file not deleted\"\n",
    "fi\n"
   ]
  },
  {
   "cell_type": "code",
   "execution_count": null,
   "metadata": {
    "vscode": {
     "languageId": "shellscript"
    }
   },
   "outputs": [
    {
     "name": "stdout",
     "output_type": "stream",
     "text": [
      "1a\n",
      "1b\n",
      "1c\n",
      "1d\n",
      "1e\n",
      "1f\n",
      "3a\n",
      "3b\n",
      "3c\n",
      "3d\n",
      "3e\n",
      "3f\n",
      "5a\n",
      "5b\n",
      "5c\n",
      "5d\n",
      "5e\n",
      "5f\n",
      "7a\n",
      "7b\n",
      "7c\n",
      "7d\n",
      "7e\n",
      "7f\n",
      "9a\n",
      "9b\n",
      "9c\n",
      "9d\n",
      "9e\n",
      "9f\n"
     ]
    }
   ],
   "source": [
    "#!/bin/bash\n",
    "\n",
    "# For loop in bash\n",
    "# for i in *;\n",
    "# do\n",
    "#     echo $i >> files.txt\n",
    "# done\n",
    "\n",
    "# While loop in bash\n",
    "# status=running\n",
    "# count=0\n",
    "# while [[ $status == \"running\" ]];\n",
    "# do\n",
    "#     count=$((count+1))\n",
    "#     echo \"Still running count is: $count\"\n",
    "\n",
    "#     if ! [[ $count -lt 10 ]]; then\n",
    "#         status=\"stopped\"\n",
    "#     fi\n",
    "# done\n",
    "\n",
    "# Until loop in bash\n",
    "# count=10\n",
    "# until [ $count -eq 0 ];\n",
    "# do\n",
    "#     echo \"Count is: $count\"\n",
    "\n",
    "#     if [[ $count -eq 6 ]]; then\n",
    "#         echo \"Skipping the loop break\"\n",
    "#         count=$((count-2))\n",
    "#         continue\n",
    "#     fi\n",
    "\n",
    "#     if [[ $count -eq 5 ]]; then\n",
    "#         echo \"Breaking the loop\"\n",
    "#         break\n",
    "#     fi\n",
    "#     count=$((count-1))\n",
    "# done\n",
    "\n",
    "# for i in {1..10..2};\n",
    "# do\n",
    "#     echo $i\n",
    "# done   \n"
   ]
  },
  {
   "cell_type": "code",
   "execution_count": null,
   "metadata": {
    "vscode": {
     "languageId": "shellscript"
    }
   },
   "outputs": [],
   "source": []
  }
 ],
 "metadata": {
  "kernelspec": {
   "display_name": "Bash",
   "language": "bash",
   "name": "bash"
  },
  "language_info": {
   "codemirror_mode": "shell",
   "file_extension": ".sh",
   "mimetype": "text/x-sh",
   "name": "bash"
  }
 },
 "nbformat": 4,
 "nbformat_minor": 2
}
