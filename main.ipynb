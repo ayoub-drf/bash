{
 "cells": [
  {
   "cell_type": "code",
   "execution_count": null,
   "metadata": {
    "vscode": {
     "languageId": "shellscript"
    }
   },
   "outputs": [],
   "source": [
    "#!/bin/bash\n",
    "\n",
    "# Mathematical functions in bash\n",
    "\n",
    "# $(( )) for Integer Arithmetic\n",
    "echo $(( 100 * 10 ))\n",
    "\n",
    "# let works only with integers.\n",
    "let sum=99+1\n",
    "echo $sum\n",
    "\n",
    "# expr for Integer Arithmetic\n",
    "echo $(expr 33 + 77)\n",
    "\n",
    "# Floating Point supports (awk, bc)\n",
    "\n",
    "# bc for Floating Point Arithmetic\n",
    "echo $(echo \"5.5 + 3.2\" | bc) # Supports Floating Point\n",
    "\n",
    "# awk for Arithmetic\n",
    "echo $(echo | awk '{print 99.99 * 10}') # Supports Floating Point\n",
    "\n",
    "# -lt | -le == less then | less then or equal\n",
    "# -gt | -ge == greater then | greater then or equal\n",
    "# [[ 2 -eq 2 ]] && echo \"Yes Equal\"\n",
    "# [[ 2 == 2 ]] && echo \"Yes Equal\"\n",
    "# [[ 1 != 2 ]] && echo \"True\"\n",
    "[[ 21 -le 21 ]] && echo \"True\"\n",
    "\n",
    "\n",
    "exit 0"
   ]
  },
  {
   "cell_type": "code",
   "execution_count": null,
   "metadata": {
    "vscode": {
     "languageId": "shellscript"
    }
   },
   "outputs": [],
   "source": [
    "bin/bash\n",
    "\n",
    "# Mathematical functions in bash\n",
    "\n",
    "# $(( )) for Integer Arithmetic\n",
    "echo $(( 100 * 10 ))\n",
    "\n",
    "# let works only with integers.\n",
    "let sum=99+1\n",
    "echo $sum\n",
    "\n",
    "# expr for Integer Arithmetic\n",
    "echo $(expr 33 + 77)\n",
    "\n",
    "# Floating Point supports (awk, bc)\n",
    "\n",
    "# bc for Floating Point Arithmetic\n",
    "echo $(echo \"5.5 + 3.2\" | bc) # Supports Floating Point\n",
    "\n",
    "# awk for Arithmetic\n",
    "echo $(echo | awk '{print 99.99 * 10}') # Supports Floating Point\n",
    "\n",
    "# -lt | -le == less then | less then or equal\n",
    "# -gt | -ge == greater then | greater then or equal\n",
    "# [[ 2 -eq 2 ]] && echo \"Yes Equal\"\n",
    "# [[ 2 == 2 ]] && echo \"Yes Equal\"\n",
    "# [[ 1 != 2 ]] && echo \"True\"\n",
    "[[ 21 -le 21 ]] && echo \"True\"\n",
    "\n",
    "\n",
    "exit 0"
   ]
  },
  {
   "cell_type": "code",
   "execution_count": 3,
   "metadata": {
    "vscode": {
     "languageId": "shellscript"
    }
   },
   "outputs": [
    {
     "name": "stdout",
     "output_type": "stream",
     "text": [
      "Yes it's equal\n",
      "exit\n",
      "Restarting Bash\n"
     ]
    }
   ],
   "source": [
    "#!/bin/bash\n",
    "\n",
    "# If statement in bash\n",
    "\n",
    "# if ! [[ 2 -eq 2 ]]; then\n",
    "#     echo \"Yes Equal\"\n",
    "# else\n",
    "#     echo \"Not Equal\"\n",
    "# fi\n",
    "\n",
    "# -e FILE: Check if a file exists.\n",
    "# -f FILE: Check if a file is a regular file (not a directory).\n",
    "# -d DIR: Check if a directory exists.\n",
    "# -r FILE: Check if a file is readable.\n",
    "# -w FILE: Check if a file is writable.\n",
    "# -x FILE: Check if a file is executable.\n",
    "# -s FILE: Check if a file is non-empty.\n",
    "# if ! [[ -e \"test.txt\" ]]; then\n",
    "#     echo \"File does not exists\"\n",
    "# fi\n",
    "\n",
    "# -z STRING: Check if a string is empty.\n",
    "# -n STRING: Check if a string is non-empty.\n",
    "# name=\"dexter\"\n",
    "# if ! [[ -z $name ]]; then\n",
    "#     echo \"$name is not empty\"\n",
    "# fi\n",
    "\n",
    "# && => AND | || => OR\n",
    "# !=  => NOT Equal \n",
    "# if ! [[ 2 != 2 ]] && [[ 2 == 2 ]]; then\n",
    "#     echo \"True\"\n",
    "# fi\n",
    "\n",
    "# [[ $var =~ regex ]]: Test if the variable matches the regular expression.\n",
    "number=\"a8093dd8093a\"\n",
    "if [[ $number =~ ^[0-9]+$ ]]; then\n",
    "    echo \"Yes\"\n",
    "elif [[ $number =~ a8093dd8093a ]]; then\n",
    "    echo \"Yes it's equal\"\n",
    "else\n",
    "    echo \"No\"\n",
    "fi\n",
    "\n",
    "\n",
    "exit 0"
   ]
  }
 ],
 "metadata": {
  "kernelspec": {
   "display_name": "Bash",
   "language": "bash",
   "name": "bash"
  },
  "language_info": {
   "codemirror_mode": "shell",
   "file_extension": ".sh",
   "mimetype": "text/x-sh",
   "name": "bash"
  }
 },
 "nbformat": 4,
 "nbformat_minor": 2
}
