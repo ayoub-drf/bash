{
 "cells": [
  {
   "cell_type": "code",
   "execution_count": null,
   "metadata": {
    "vscode": {
     "languageId": "shellscript"
    }
   },
   "outputs": [],
   "source": [
    "#!/bin/bash\n",
    "\n",
    "declare -i my_num=3\n",
    "declare my_name=\"dexter\"\n",
    "declare -a names=(James Maria)\n",
    "names[2]=$my_name\n",
    "\n",
    "echo ${names[2]}\n",
    "\n",
    "exit 0"
   ]
  },
  {
   "cell_type": "code",
   "execution_count": null,
   "metadata": {
    "vscode": {
     "languageId": "shellscript"
    }
   },
   "outputs": [],
   "source": [
    "#!/bin/bash\n",
    "\n",
    "num=100\n",
    "\n",
    "# echo $(($num / 10))\n",
    "# echo $(($num * 10))\n",
    "# echo $(($num + 10))\n",
    "\n",
    "expr $num + 1 # using expr\n",
    "echo $num + 10 | bc # bs: bash calc execute $num + 10 in the bash calc\n",
    "\n",
    "exit 0"
   ]
  },
  {
   "cell_type": "code",
   "execution_count": null,
   "metadata": {
    "vscode": {
     "languageId": "shellscript"
    }
   },
   "outputs": [],
   "source": [
    "#!/bin/bash\n",
    "\n",
    "# ; this chars means and\n",
    "false ; echo $? # show the exit code for false\n",
    "true ; echo $? # show the exit code for false\n",
    "\n",
    "true && echo \"input\"\n",
    "false && echo \"no output\"\n",
    "\n",
    "exit 0"
   ]
  },
  {
   "cell_type": "code",
   "execution_count": null,
   "metadata": {
    "vscode": {
     "languageId": "shellscript"
    }
   },
   "outputs": [],
   "source": []
  },
  {
   "cell_type": "code",
   "execution_count": null,
   "metadata": {
    "vscode": {
     "languageId": "shellscript"
    }
   },
   "outputs": [],
   "source": [
    "#!/bin/bash\n",
    "\n",
    "# -lt | -lt == less then | less then or equal\n",
    "# -gt | -ge == greater then | greater then or equal\n",
    "# [[ 2 -eq 2 ]] && echo \"Yes Equal\"\n",
    "# [[ 2 == 2 ]] && echo \"Yes Equal\"\n",
    "# [[ 1 != 2 ]] && echo \"True\"\n",
    "[[ 3 > 21 ]] && echo \"True\"\n",
    "\n",
    "exit 0"
   ]
  },
  {
   "cell_type": "code",
   "execution_count": 10,
   "metadata": {
    "vscode": {
     "languageId": "shellscript"
    }
   },
   "outputs": [
    {
     "name": "stdout",
     "output_type": "stream",
     "text": [
      "what is your name\n",
      "Name: \n"
     ]
    }
   ],
   "source": [
    "#!/bin/bash\n",
    "\n",
    "function HELLO () {\n",
    "    echo \"what is your name\"\n",
    "    read -p \"Name: \" name\n",
    "    echo \"You what's up $name\"\n",
    "    return 0\n",
    "}\n",
    "\n",
    "HELLO\n",
    "\n",
    "exit 0"
   ]
  },
  {
   "cell_type": "code",
   "execution_count": 15,
   "metadata": {
    "vscode": {
     "languageId": "shellscript"
    }
   },
   "outputs": [
    {
     "name": "stdout",
     "output_type": "stream",
     "text": [
      "YES true\n",
      "exit\n",
      "Restarting Bash\n"
     ]
    }
   ],
   "source": [
    "#!/bin/bash\n",
    "\n",
    "if [ 10 -lt 19 ]; then\n",
    "    echo \"YES\" true\n",
    "fi\n",
    "\n",
    "exit 0"
   ]
  },
  {
   "cell_type": "code",
   "execution_count": null,
   "metadata": {
    "vscode": {
     "languageId": "shellscript"
    }
   },
   "outputs": [
    {
     "name": "stdout",
     "output_type": "stream",
     "text": [
      "6\n",
      "dexter\n",
      "DEXTER\n",
      "exit\n",
      "Restarting Bash\n"
     ]
    }
   ],
   "source": [
    "my_text=\"dexter\"\n",
    "echo ${#my_text} # Get the length\n",
    "echo ${my_text,,} # LowerCase\n",
    "echo ${my_text^^} # UpperCase\n",
    "\n",
    "exit 0"
   ]
  }
 ],
 "metadata": {
  "kernelspec": {
   "display_name": "Bash",
   "language": "bash",
   "name": "bash"
  },
  "language_info": {
   "codemirror_mode": "shell",
   "file_extension": ".sh",
   "mimetype": "text/x-sh",
   "name": "bash"
  }
 },
 "nbformat": 4,
 "nbformat_minor": 2
}
